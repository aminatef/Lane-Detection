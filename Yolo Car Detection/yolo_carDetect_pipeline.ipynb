{
 "cells": [
  {
   "cell_type": "code",
   "execution_count": 1,
   "metadata": {},
   "outputs": [],
   "source": [
    "import numpy as np\n",
    "import time\n",
    "import cv2\n",
    "import matplotlib.pyplot as plt"
   ]
  },
  {
   "cell_type": "markdown",
   "metadata": {},
   "source": [
    "### Yolo Model Class"
   ]
  },
  {
   "cell_type": "code",
   "execution_count": 2,
   "metadata": {},
   "outputs": [],
   "source": [
    "class yolo_model():\n",
    "\n",
    "    def __init__(self, config, weights, labelPath, thresh=0.8):\n",
    "        self.CONFIDENCE_THRESHOLD = thresh\n",
    "        self.LABELS = open(labelPath).read().strip().split(\"\\n\")\n",
    "        np.random.seed(4)\n",
    "        self.COLORS = np.random.randint(0, 255, size=(len(self.LABELS), 3),\n",
    "                                        dtype=\"uint8\")\n",
    "        self.net = cv2.dnn.readNetFromDarknet(config, weights)\n",
    "        self.net.setPreferableBackend(cv2.dnn.DNN_BACKEND_CUDA)\n",
    "        self.net.setPreferableTarget(cv2.dnn.DNN_TARGET_CUDA)\n",
    "\n",
    "    def predict(self, image):\n",
    "        (H, W) = image.shape[:2]\n",
    "\n",
    "        # determine only the *output* layer names that we need from YOLO\n",
    "        ln = self.net.getLayerNames()\n",
    "        ln = [ln[i - 1] for i in self.net.getUnconnectedOutLayers()]\n",
    "\n",
    "        image = cv2.cvtColor(image, cv2.COLOR_BGR2RGB)\n",
    "        blob = cv2.dnn.blobFromImage(image, 1 / 255.0, (320, 320),\n",
    "                                     swapRB=False, crop=False)\n",
    "        self.net.setInput(blob)\n",
    "        start = time.time()\n",
    "        layerOutputs = self.net.forward(ln)\n",
    "        end = time.time()\n",
    "\n",
    "        # print(\"[INFO] YOLO took {:.6f} seconds\".format(end - start))\n",
    "\n",
    "        # initialize our lists of detected bounding boxes, confidences, and\n",
    "        # class IDs, respectively\n",
    "        boxes = []\n",
    "        confidences = []\n",
    "        classIDs = []\n",
    "\n",
    "        # loop over each of the layer outputs\n",
    "\n",
    "        for output in layerOutputs:\n",
    "            # loop over each of the detections\n",
    "\n",
    "            for detection in output:\n",
    "                # extract the class ID and confidence (i.e., probability) of\n",
    "                # the current object detection\n",
    "                scores = detection[5:]\n",
    "                classID = np.argmax(scores)\n",
    "                confidence = scores[classID]\n",
    "                # filter out weak predictions by ensuring the detected\n",
    "                # probability is greater than the minimum probability\n",
    "                if confidence > self.CONFIDENCE_THRESHOLD:\n",
    "                    # scale the bounding box coordinates back relative to the\n",
    "                    # size of the image, keeping in mind that YOLO actually\n",
    "                    # returns the center (x, y)-coordinates of the bounding\n",
    "                    # box followed by the boxes' width and height\n",
    "                    box = detection[0:4] * np.array([W, H, W, H])\n",
    "                    (centerX, centerY, width, height) = box.astype(\"int\")\n",
    "\n",
    "                    # use the center (x, y)-coordinates to derive the top and\n",
    "                    # and left corner of the bounding box\n",
    "                    x = int(centerX - (width / 2))\n",
    "                    y = int(centerY - (height / 2))\n",
    "                    # update our list of bounding box coordinates, confidences,\n",
    "                    # and class IDs\n",
    "                    boxes.append([x, y, int(width), int(height)])\n",
    "                    confidences.append(float(confidence))\n",
    "                    classIDs.append(classID)\n",
    "\n",
    "        # apply non-maxima suppression to suppress weak, overlapping bounding\n",
    "        # boxes\n",
    "        idxs = cv2.dnn.NMSBoxes(boxes, confidences, self.CONFIDENCE_THRESHOLD,\n",
    "                                0.3)\n",
    "\n",
    "        # ensure at least one detection exists\n",
    "        if len(idxs) > 0:\n",
    "            # loop over the indexes we are keeping\n",
    "            predictions = dict()\n",
    "            for i in idxs.flatten():\n",
    "                # extract the bounding box coordinates\n",
    "                (x, y) = (boxes[i][0], boxes[i][1])\n",
    "                (w, h) = (boxes[i][2], boxes[i][3])\n",
    "                # print((x,y,x+w,y+h),f'{i}')\n",
    "\n",
    "                color = [int(c) for c in self.COLORS[classIDs[i]]]\n",
    "                # if not classIDs[i] in predictions.keys():\n",
    "                # \tpredictions[classIDs[i]]=list()\n",
    "                # predictions[classIDs[i]].append((x, y, w, h,confidences[i]))\n",
    "\n",
    "                # draw BB on image\n",
    "                cv2.rectangle(image, (x, y), (x + w, y + h), color, 2)\n",
    "                text = \"{}: {:.4f}\".format(\n",
    "                    self.LABELS[classIDs[i]], confidences[i])\n",
    "                cv2.putText(image, text, (x, y - 5), cv2.FONT_HERSHEY_SIMPLEX,\n",
    "                            0.5, color, 2)\n",
    "                # cv2.putText(image, f'{i}', (int(x+w/2), y+h + 5), cv2.FONT_HERSHEY_SIMPLEX,\n",
    "                # \t0.5, color, 2)\n",
    "        return image\n"
   ]
  },
  {
   "cell_type": "markdown",
   "metadata": {},
   "source": [
    "##### Main Function"
   ]
  },
  {
   "cell_type": "code",
   "execution_count": 3,
   "metadata": {},
   "outputs": [],
   "source": [
    "def main(cfg_path, weights_path, dataset_path, image_path):\n",
    "    yolo = yolo_model(cfg_path, weights_path, dataset_path)\n",
    "    pred_img = yolo.predict(cv2.imread(image_path))\n",
    "    plt.imshow(pred_img)\n",
    "    plt.show()"
   ]
  }
 ],
 "metadata": {
  "interpreter": {
   "hash": "b16008564f7dcbbd54b09bfa8fb4982d39732a8421ce68be2e8117977a68f41f"
  },
  "kernelspec": {
   "display_name": "Python 3.9.12 ('base')",
   "language": "python",
   "name": "python3"
  },
  "language_info": {
   "codemirror_mode": {
    "name": "ipython",
    "version": 3
   },
   "file_extension": ".py",
   "mimetype": "text/x-python",
   "name": "python",
   "nbconvert_exporter": "python",
   "pygments_lexer": "ipython3",
   "version": "3.9.12"
  },
  "orig_nbformat": 4
 },
 "nbformat": 4,
 "nbformat_minor": 2
}
